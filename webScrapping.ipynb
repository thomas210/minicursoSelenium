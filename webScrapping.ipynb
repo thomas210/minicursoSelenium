{
 "cells": [
  {
   "cell_type": "markdown",
   "id": "4b7ade94",
   "metadata": {},
   "source": [
    "# Hackeando Dados da Web (Eticamente!)\n",
    "Um Minicurso de Web Scraping e Automação Web\n",
    "\n",
    "Curso de Verão Nova Roma"
   ]
  },
  {
   "cell_type": "markdown",
   "id": "b1ad9552",
   "metadata": {},
   "source": [
    "## Instalando e iniciando o selenium"
   ]
  },
  {
   "cell_type": "code",
   "execution_count": 22,
   "id": "dd9af21f",
   "metadata": {},
   "outputs": [],
   "source": [
    "# Imports\n",
    "\n",
    "from selenium import webdriver\n",
    "from webdriver_manager.chrome import ChromeDriverManager\n",
    "from selenium.webdriver.chrome.service import Service\n",
    "from selenium.webdriver.common.by import By\n",
    "import pandas as pd\n",
    "from selenium.webdriver.common.keys import Keys"
   ]
  },
  {
   "cell_type": "code",
   "execution_count": 8,
   "id": "ca89d53b-97d5-4742-850e-671c6b9f36c2",
   "metadata": {},
   "outputs": [],
   "source": [
    "service = Service(ChromeDriverManager().install())\n",
    "\n",
    "driver = webdriver.Chrome(service=service)\n",
    "\n",
    "# Fechar o navegador\n",
    "# driver.quit()"
   ]
  },
  {
   "cell_type": "markdown",
   "id": "eb8a598e",
   "metadata": {},
   "source": [
    "## Caso 1 - Login e base de preços"
   ]
  },
  {
   "cell_type": "code",
   "execution_count": 3,
   "id": "7f79445f",
   "metadata": {},
   "outputs": [],
   "source": [
    "# Acessar o site\n",
    "driver.get(\"https://www.saucedemo.com/\")"
   ]
  },
  {
   "cell_type": "code",
   "execution_count": 4,
   "id": "e8ca7fec",
   "metadata": {},
   "outputs": [],
   "source": [
    "# Login no site\n",
    "driver.find_element(By.ID, \"user-name\").send_keys(\"standard_user\")\n",
    "driver.find_element(By.ID, \"password\").send_keys(\"secret_sauce\")\n",
    "driver.find_element(By.ID, \"login-button\").click()"
   ]
  },
  {
   "cell_type": "code",
   "execution_count": 5,
   "id": "9cfa69fb-1393-44a8-93cf-e842ba72b20a",
   "metadata": {},
   "outputs": [
    {
     "data": {
      "text/plain": [
       "[{'Nome': 'Sauce Labs Backpack', 'Preço': '$29.99'},\n",
       " {'Nome': 'Sauce Labs Bike Light', 'Preço': '$9.99'},\n",
       " {'Nome': 'Sauce Labs Bolt T-Shirt', 'Preço': '$15.99'},\n",
       " {'Nome': 'Sauce Labs Fleece Jacket', 'Preço': '$49.99'},\n",
       " {'Nome': 'Sauce Labs Onesie', 'Preço': '$7.99'},\n",
       " {'Nome': 'Test.allTheThings() T-Shirt (Red)', 'Preço': '$15.99'}]"
      ]
     },
     "execution_count": 5,
     "metadata": {},
     "output_type": "execute_result"
    }
   ],
   "source": [
    "# ver os preços de cada produto\n",
    "produtos = driver.find_elements(By.CLASS_NAME, \"inventory_item\")\n",
    "\n",
    "dados = []\n",
    "for produto in produtos:\n",
    "    nome = produto.find_element(By.CLASS_NAME, \"inventory_item_name\").text\n",
    "    preco = produto.find_element(By.CLASS_NAME, \"inventory_item_price\").text\n",
    "    dados.append({\"Nome\": nome, \"Preço\": preco})\n",
    "\n",
    "dados"
   ]
  },
  {
   "cell_type": "code",
   "execution_count": 6,
   "id": "4b6d32a0",
   "metadata": {},
   "outputs": [
    {
     "data": {
      "text/html": [
       "<div>\n",
       "<style scoped>\n",
       "    .dataframe tbody tr th:only-of-type {\n",
       "        vertical-align: middle;\n",
       "    }\n",
       "\n",
       "    .dataframe tbody tr th {\n",
       "        vertical-align: top;\n",
       "    }\n",
       "\n",
       "    .dataframe thead th {\n",
       "        text-align: right;\n",
       "    }\n",
       "</style>\n",
       "<table border=\"1\" class=\"dataframe\">\n",
       "  <thead>\n",
       "    <tr style=\"text-align: right;\">\n",
       "      <th></th>\n",
       "      <th>Nome</th>\n",
       "      <th>Preço</th>\n",
       "    </tr>\n",
       "  </thead>\n",
       "  <tbody>\n",
       "    <tr>\n",
       "      <th>0</th>\n",
       "      <td>Sauce Labs Backpack</td>\n",
       "      <td>$29.99</td>\n",
       "    </tr>\n",
       "    <tr>\n",
       "      <th>1</th>\n",
       "      <td>Sauce Labs Bike Light</td>\n",
       "      <td>$9.99</td>\n",
       "    </tr>\n",
       "    <tr>\n",
       "      <th>2</th>\n",
       "      <td>Sauce Labs Bolt T-Shirt</td>\n",
       "      <td>$15.99</td>\n",
       "    </tr>\n",
       "    <tr>\n",
       "      <th>3</th>\n",
       "      <td>Sauce Labs Fleece Jacket</td>\n",
       "      <td>$49.99</td>\n",
       "    </tr>\n",
       "    <tr>\n",
       "      <th>4</th>\n",
       "      <td>Sauce Labs Onesie</td>\n",
       "      <td>$7.99</td>\n",
       "    </tr>\n",
       "  </tbody>\n",
       "</table>\n",
       "</div>"
      ],
      "text/plain": [
       "                       Nome   Preço\n",
       "0       Sauce Labs Backpack  $29.99\n",
       "1     Sauce Labs Bike Light   $9.99\n",
       "2   Sauce Labs Bolt T-Shirt  $15.99\n",
       "3  Sauce Labs Fleece Jacket  $49.99\n",
       "4         Sauce Labs Onesie   $7.99"
      ]
     },
     "execution_count": 6,
     "metadata": {},
     "output_type": "execute_result"
    }
   ],
   "source": [
    "# inserir num df\n",
    "\n",
    "df = pd.DataFrame(dados)\n",
    "\n",
    "df.head()"
   ]
  },
  {
   "cell_type": "markdown",
   "id": "ce8070f4",
   "metadata": {},
   "source": [
    "## Caso 2 - Gerar relatório de preços de livros de mistério"
   ]
  },
  {
   "cell_type": "code",
   "execution_count": 9,
   "id": "4a3e691c",
   "metadata": {},
   "outputs": [],
   "source": [
    "# Acessar o site\n",
    "driver.get(\"https://books.toscrape.com\")"
   ]
  },
  {
   "cell_type": "code",
   "execution_count": null,
   "id": "20772e8b",
   "metadata": {},
   "outputs": [],
   "source": [
    "# Acessar apenas os livros de mistério\n",
    "\n",
    "driver.find_element('xpath','//*[@id=\"default\"]/div/div/div/aside/div[2]/ul/li/ul/li[2]/a').click()"
   ]
  },
  {
   "cell_type": "code",
   "execution_count": null,
   "id": "c8a8b454",
   "metadata": {},
   "outputs": [],
   "source": [
    "proximaPagina = driver.find_elements(By.CLASS_NAME,'next')\n",
    "while(len(proximaPagina) > 0):\n",
    "    print(\"tem a proxima pagina\")\n",
    "    driver.find_element(By.CLASS_NAME,'next').find_element(By.TAG_NAME, \"a\").click()\n",
    "    proximaPagina = driver.find_elements(By.CLASS_NAME,'next')\n",
    "print(\"final\")"
   ]
  },
  {
   "cell_type": "code",
   "execution_count": null,
   "id": "452ca940-6dc1-47bd-ae18-4bd315fdaaca",
   "metadata": {},
   "outputs": [
    {
     "data": {
      "text/html": [
       "<div>\n",
       "<style scoped>\n",
       "    .dataframe tbody tr th:only-of-type {\n",
       "        vertical-align: middle;\n",
       "    }\n",
       "\n",
       "    .dataframe tbody tr th {\n",
       "        vertical-align: top;\n",
       "    }\n",
       "\n",
       "    .dataframe thead th {\n",
       "        text-align: right;\n",
       "    }\n",
       "</style>\n",
       "<table border=\"1\" class=\"dataframe\">\n",
       "  <thead>\n",
       "    <tr style=\"text-align: right;\">\n",
       "      <th></th>\n",
       "      <th>Título</th>\n",
       "      <th>Preço</th>\n",
       "    </tr>\n",
       "  </thead>\n",
       "  <tbody>\n",
       "    <tr>\n",
       "      <th>0</th>\n",
       "      <td>Sharp Objects</td>\n",
       "      <td>£47.82</td>\n",
       "    </tr>\n",
       "    <tr>\n",
       "      <th>1</th>\n",
       "      <td>In a Dark, Dark Wood</td>\n",
       "      <td>£19.63</td>\n",
       "    </tr>\n",
       "    <tr>\n",
       "      <th>2</th>\n",
       "      <td>The Past Never Ends</td>\n",
       "      <td>£56.50</td>\n",
       "    </tr>\n",
       "    <tr>\n",
       "      <th>3</th>\n",
       "      <td>A Murder in Time</td>\n",
       "      <td>£16.64</td>\n",
       "    </tr>\n",
       "    <tr>\n",
       "      <th>4</th>\n",
       "      <td>The Murder of Roger Ackroyd (Hercule Poirot #4)</td>\n",
       "      <td>£44.10</td>\n",
       "    </tr>\n",
       "  </tbody>\n",
       "</table>\n",
       "</div>"
      ],
      "text/plain": [
       "                                            Título   Preço\n",
       "0                                    Sharp Objects  £47.82\n",
       "1                             In a Dark, Dark Wood  £19.63\n",
       "2                              The Past Never Ends  £56.50\n",
       "3                                 A Murder in Time  £16.64\n",
       "4  The Murder of Roger Ackroyd (Hercule Poirot #4)  £44.10"
      ]
     },
     "execution_count": 11,
     "metadata": {},
     "output_type": "execute_result"
    }
   ],
   "source": [
    "# Encontrar todos os livros (cada um está em uma tag <article> com a classe 'product_pod')\n",
    "livros = driver.find_elements(By.CLASS_NAME, \"product_pod\")\n",
    "\n",
    "produtos = []\n",
    "    \n",
    "# Iterar pelos livros e capturar o título e o preço\n",
    "for livro in livros:\n",
    "    # O título está no atributo 'title' da tag <a>\n",
    "    titulo = livro.find_element(By.TAG_NAME, \"h3\").find_element(By.TAG_NAME, \"a\").get_attribute(\"title\")\n",
    "    # O preço está na tag <p> com a classe 'price_color'\n",
    "    preco = livro.find_element(By.CLASS_NAME, \"price_color\").text\n",
    "    # print(f\"Título: {titulo} | Preço: {preco}\")\n",
    "    produtos.append({\"Título\": titulo, \"Preço\": preco})\n",
    "\n",
    "df = pd.DataFrame(produtos)\n",
    "\n",
    "df.head()"
   ]
  },
  {
   "cell_type": "code",
   "execution_count": null,
   "id": "3a47c39b",
   "metadata": {},
   "outputs": [
    {
     "name": "stdout",
     "output_type": "stream",
     "text": [
      "Existe outra página\n",
      "finalizado\n"
     ]
    },
    {
     "data": {
      "text/html": [
       "<div>\n",
       "<style scoped>\n",
       "    .dataframe tbody tr th:only-of-type {\n",
       "        vertical-align: middle;\n",
       "    }\n",
       "\n",
       "    .dataframe tbody tr th {\n",
       "        vertical-align: top;\n",
       "    }\n",
       "\n",
       "    .dataframe thead th {\n",
       "        text-align: right;\n",
       "    }\n",
       "</style>\n",
       "<table border=\"1\" class=\"dataframe\">\n",
       "  <thead>\n",
       "    <tr style=\"text-align: right;\">\n",
       "      <th></th>\n",
       "      <th>Título</th>\n",
       "      <th>Preço</th>\n",
       "    </tr>\n",
       "  </thead>\n",
       "  <tbody>\n",
       "    <tr>\n",
       "      <th>0</th>\n",
       "      <td>Sharp Objects</td>\n",
       "      <td>£47.82</td>\n",
       "    </tr>\n",
       "    <tr>\n",
       "      <th>1</th>\n",
       "      <td>In a Dark, Dark Wood</td>\n",
       "      <td>£19.63</td>\n",
       "    </tr>\n",
       "    <tr>\n",
       "      <th>2</th>\n",
       "      <td>The Past Never Ends</td>\n",
       "      <td>£56.50</td>\n",
       "    </tr>\n",
       "    <tr>\n",
       "      <th>3</th>\n",
       "      <td>A Murder in Time</td>\n",
       "      <td>£16.64</td>\n",
       "    </tr>\n",
       "    <tr>\n",
       "      <th>4</th>\n",
       "      <td>The Murder of Roger Ackroyd (Hercule Poirot #4)</td>\n",
       "      <td>£44.10</td>\n",
       "    </tr>\n",
       "  </tbody>\n",
       "</table>\n",
       "</div>"
      ],
      "text/plain": [
       "                                            Título   Preço\n",
       "0                                    Sharp Objects  £47.82\n",
       "1                             In a Dark, Dark Wood  £19.63\n",
       "2                              The Past Never Ends  £56.50\n",
       "3                                 A Murder in Time  £16.64\n",
       "4  The Murder of Roger Ackroyd (Hercule Poirot #4)  £44.10"
      ]
     },
     "execution_count": 21,
     "metadata": {},
     "output_type": "execute_result"
    }
   ],
   "source": [
    "# fazer o mesmo mas indo em todas as páginas\n",
    "\n",
    "produtos = []\n",
    "\n",
    "while(True):\n",
    "\n",
    "    # Encontrar todos os livros (cada um está em uma tag <article> com a classe 'product_pod')\n",
    "    livros = driver.find_elements(By.CLASS_NAME, \"product_pod\")\n",
    "\n",
    "    \n",
    "\n",
    "    # Iterar pelos livros e capturar o título e o preço\n",
    "    for livro in livros:\n",
    "        # O título está no atributo 'title' da tag <a>\n",
    "        titulo = livro.find_element(By.TAG_NAME, \"h3\").find_element(By.TAG_NAME, \"a\").get_attribute(\"title\")\n",
    "        # O preço está na tag <p> com a classe 'price_color'\n",
    "        preco = livro.find_element(By.CLASS_NAME, \"price_color\").text\n",
    "        # print(f\"Título: {titulo} | Preço: {preco}\")\n",
    "        produtos.append({\"Título\": titulo, \"Preço\": preco})\n",
    "\n",
    "    # Buscar se tem elementos do botão next na página\n",
    "    proximaPagina = driver.find_elements(By.CLASS_NAME,'next')\n",
    "    if (len(proximaPagina) > 0):\n",
    "        print(\"Existe outra página\")\n",
    "        # clicar no botão next\n",
    "        driver.find_element(By.CLASS_NAME,'next').find_element(By.TAG_NAME, \"a\").click()    \n",
    "    else:\n",
    "        print(\"finalizado\")\n",
    "        break\n",
    "\n",
    "df = pd.DataFrame(produtos)\n",
    "\n",
    "df.head()"
   ]
  },
  {
   "cell_type": "markdown",
   "id": "7db61820",
   "metadata": {},
   "source": [
    "## Caso 3 - Buscador de preços"
   ]
  },
  {
   "cell_type": "markdown",
   "id": "56315a58",
   "metadata": {},
   "source": [
    "### Americanas"
   ]
  },
  {
   "cell_type": "code",
   "execution_count": null,
   "id": "54752515-48a6-4da0-a472-00ee96b14f46",
   "metadata": {},
   "outputs": [
    {
     "data": {
      "text/html": [
       "<div>\n",
       "<style scoped>\n",
       "    .dataframe tbody tr th:only-of-type {\n",
       "        vertical-align: middle;\n",
       "    }\n",
       "\n",
       "    .dataframe tbody tr th {\n",
       "        vertical-align: top;\n",
       "    }\n",
       "\n",
       "    .dataframe thead th {\n",
       "        text-align: right;\n",
       "    }\n",
       "</style>\n",
       "<table border=\"1\" class=\"dataframe\">\n",
       "  <thead>\n",
       "    <tr style=\"text-align: right;\">\n",
       "      <th></th>\n",
       "      <th>Título</th>\n",
       "      <th>Preço</th>\n",
       "      <th>Loja</th>\n",
       "    </tr>\n",
       "  </thead>\n",
       "  <tbody>\n",
       "    <tr>\n",
       "      <th>0</th>\n",
       "      <td>celular samsung galaxy s25 5g, 256gb, 12gb ram...</td>\n",
       "      <td>R$ 6.999,00</td>\n",
       "      <td>Americanas</td>\n",
       "    </tr>\n",
       "    <tr>\n",
       "      <th>1</th>\n",
       "      <td>celular samsung galaxy s25 ultra 5g, 512gb, 12...</td>\n",
       "      <td>R$ 11.999,00</td>\n",
       "      <td>Americanas</td>\n",
       "    </tr>\n",
       "    <tr>\n",
       "      <th>2</th>\n",
       "      <td>celular samsung galaxy s25 5g, 512gb, 12gb ram...</td>\n",
       "      <td>R$ 7.499,00</td>\n",
       "      <td>Americanas</td>\n",
       "    </tr>\n",
       "  </tbody>\n",
       "</table>\n",
       "</div>"
      ],
      "text/plain": [
       "                                              Título         Preço        Loja\n",
       "0  celular samsung galaxy s25 5g, 256gb, 12gb ram...   R$ 6.999,00  Americanas\n",
       "1  celular samsung galaxy s25 ultra 5g, 512gb, 12...  R$ 11.999,00  Americanas\n",
       "2  celular samsung galaxy s25 5g, 512gb, 12gb ram...   R$ 7.499,00  Americanas"
      ]
     },
     "execution_count": 19,
     "metadata": {},
     "output_type": "execute_result"
    }
   ],
   "source": [
    "# Americanas\n",
    "\n",
    "driver.get(\"https://www.americanas.com.br/busca/celular-samsung-s25\") \n",
    "\n",
    "# Pegar a lista de produtos pela clase que tem em todos\n",
    "produtos = driver.find_elements(By.CLASS_NAME, \"inStockCard__Link-sc-1ngt5zo-1\")\n",
    "\n",
    "# pegar apenas os 3 primeiros\n",
    "celulares = produtos[:3]\n",
    "\n",
    "infoCelular = []\n",
    "for celular in celulares:\n",
    "\n",
    "    nome = celular.find_element(By.CLASS_NAME, \"product-name\").text\n",
    "\n",
    "    preco = celular.find_element(By.CLASS_NAME, \"list-price\").text\n",
    "\n",
    "    infoCelular.append({\"Título\": nome, \"Preço\": preco, \"Loja\": \"Americanas\"})\n",
    "\n",
    "df = pd.DataFrame(infoCelular)\n",
    "\n",
    "df.head()"
   ]
  },
  {
   "cell_type": "markdown",
   "id": "1fb52ea5",
   "metadata": {},
   "source": [
    "### Magazine Luiza"
   ]
  },
  {
   "cell_type": "code",
   "execution_count": null,
   "id": "8cb83b32-186a-4ce2-ac98-3d99a4af13ed",
   "metadata": {},
   "outputs": [],
   "source": [
    "# MagazineLuiza - buscando do início\n",
    "\n",
    "driver.get(\"https://www.magazineluiza.com.br\")\n",
    "\n",
    "driver.find_element('xpath','//*[@id=\"input-search\"]').send_keys(\"celular sansung s25\")\n",
    "\n",
    "driver.find_element('xpath','//*[@id=\"input-search\"]').send_keys(Keys.ENTER)"
   ]
  },
  {
   "cell_type": "code",
   "execution_count": null,
   "id": "0a6caeca",
   "metadata": {},
   "outputs": [
    {
     "data": {
      "text/html": [
       "<div>\n",
       "<style scoped>\n",
       "    .dataframe tbody tr th:only-of-type {\n",
       "        vertical-align: middle;\n",
       "    }\n",
       "\n",
       "    .dataframe tbody tr th {\n",
       "        vertical-align: top;\n",
       "    }\n",
       "\n",
       "    .dataframe thead th {\n",
       "        text-align: right;\n",
       "    }\n",
       "</style>\n",
       "<table border=\"1\" class=\"dataframe\">\n",
       "  <thead>\n",
       "    <tr style=\"text-align: right;\">\n",
       "      <th></th>\n",
       "      <th>Título</th>\n",
       "      <th>Preço</th>\n",
       "      <th>Loja</th>\n",
       "    </tr>\n",
       "  </thead>\n",
       "  <tbody>\n",
       "    <tr>\n",
       "      <th>0</th>\n",
       "      <td>celular samsung galaxy s25 5g, 256gb, 12gb ram...</td>\n",
       "      <td>R$ 6.999,00</td>\n",
       "      <td>Americanas</td>\n",
       "    </tr>\n",
       "    <tr>\n",
       "      <th>1</th>\n",
       "      <td>celular samsung galaxy s25 ultra 5g, 512gb, 12...</td>\n",
       "      <td>R$ 11.999,00</td>\n",
       "      <td>Americanas</td>\n",
       "    </tr>\n",
       "    <tr>\n",
       "      <th>2</th>\n",
       "      <td>celular samsung galaxy s25 5g, 512gb, 12gb ram...</td>\n",
       "      <td>R$ 7.499,00</td>\n",
       "      <td>Americanas</td>\n",
       "    </tr>\n",
       "    <tr>\n",
       "      <th>3</th>\n",
       "      <td>Samsung Galaxy S25 Ultra 5G 512GB Galaxy AI</td>\n",
       "      <td>R$ 11.698,20</td>\n",
       "      <td>Magazine Luiza</td>\n",
       "    </tr>\n",
       "    <tr>\n",
       "      <th>4</th>\n",
       "      <td>Samsung Galaxy S25 Ultra 5G 512GB Galaxy AI</td>\n",
       "      <td>R$ 11.698,20</td>\n",
       "      <td>Magazine Luiza</td>\n",
       "    </tr>\n",
       "    <tr>\n",
       "      <th>5</th>\n",
       "      <td>Samsung Galaxy S25 5G 256GB Galaxy AI Azul</td>\n",
       "      <td>R$ 7.198,20</td>\n",
       "      <td>Magazine Luiza</td>\n",
       "    </tr>\n",
       "  </tbody>\n",
       "</table>\n",
       "</div>"
      ],
      "text/plain": [
       "                                              Título         Preço  \\\n",
       "0  celular samsung galaxy s25 5g, 256gb, 12gb ram...   R$ 6.999,00   \n",
       "1  celular samsung galaxy s25 ultra 5g, 512gb, 12...  R$ 11.999,00   \n",
       "2  celular samsung galaxy s25 5g, 512gb, 12gb ram...   R$ 7.499,00   \n",
       "3        Samsung Galaxy S25 Ultra 5G 512GB Galaxy AI  R$ 11.698,20   \n",
       "4        Samsung Galaxy S25 Ultra 5G 512GB Galaxy AI  R$ 11.698,20   \n",
       "5         Samsung Galaxy S25 5G 256GB Galaxy AI Azul   R$ 7.198,20   \n",
       "\n",
       "             Loja  \n",
       "0      Americanas  \n",
       "1      Americanas  \n",
       "2      Americanas  \n",
       "3  Magazine Luiza  \n",
       "4  Magazine Luiza  \n",
       "5  Magazine Luiza  "
      ]
     },
     "execution_count": 20,
     "metadata": {},
     "output_type": "execute_result"
    }
   ],
   "source": [
    "driver.get(\"https://www.magazineluiza.com.br/busca/celular+sansung+s25\")\n",
    "\n",
    "# pegar os produtos pelo seletor e depois pela classe\n",
    "produtos = driver.find_element(By.CSS_SELECTOR,'[data-testid=\"product-list\"]').find_elements(By.CLASS_NAME,'gmRWWc')\n",
    "\n",
    "# pegar os 3 primeiros\n",
    "celulares = produtos[:3]\n",
    "\n",
    "for celular in celulares:\n",
    "\n",
    "    # busca dos produtos pelo seletor\n",
    "\n",
    "    nome = celular.find_element(By.CSS_SELECTOR, '[data-testid=\"product-title').text\n",
    "\n",
    "    preco = celular.find_element(By.CSS_SELECTOR, '[data-testid=\"price-value').text\n",
    "\n",
    "    # remover o começo do texto, termo \"ou \"\n",
    "    preco = preco[3:]\n",
    "\n",
    "    infoCelular.append({\"Título\": nome, \"Preço\": preco, \"Loja\": \"Magazine Luiza\"})\n",
    "\n",
    "df = pd.DataFrame(infoCelular)\n",
    "\n",
    "df"
   ]
  }
 ],
 "metadata": {
  "kernelspec": {
   "display_name": "test_selenium",
   "language": "python",
   "name": "python3"
  },
  "language_info": {
   "codemirror_mode": {
    "name": "ipython",
    "version": 3
   },
   "file_extension": ".py",
   "mimetype": "text/x-python",
   "name": "python",
   "nbconvert_exporter": "python",
   "pygments_lexer": "ipython3",
   "version": "3.12.8"
  }
 },
 "nbformat": 4,
 "nbformat_minor": 5
}
